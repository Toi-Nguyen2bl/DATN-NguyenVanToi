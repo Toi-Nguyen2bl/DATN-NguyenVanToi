{
 "cells": [
  {
   "cell_type": "code",
   "execution_count": null,
   "metadata": {},
   "outputs": [],
   "source": [
    "from pynq.lib.video import *\n",
    "from pynq_dpu import DpuOverlay\n",
    "overlay = DpuOverlay(\"dpu.bit\")\n",
    "overlay.load_model(\"dpu_face_binary_classifier_0.elf\")"
   ]
  },
  {
   "cell_type": "markdown",
   "metadata": {},
   "source": [
    "# Load libraries"
   ]
  },
  {
   "cell_type": "code",
   "execution_count": null,
   "metadata": {},
   "outputs": [],
   "source": [
    "from time import time\n",
    "import numpy as np\n",
    "from dnndk import n2cube\n",
    "import matplotlib.pyplot as plt"
   ]
  },
  {
   "cell_type": "markdown",
   "metadata": {},
   "source": [
    "# Setting the input and output layers."
   ]
  },
  {
   "cell_type": "code",
   "execution_count": null,
   "metadata": {},
   "outputs": [],
   "source": [
    "KERNEL_NAME = \"face_binary_classifier_0\"\n",
    "KERNEL_CONV_INPUT = \"conv2d_1_convolution\"\n",
    "KERNEL_FC_OUTPUT = \"output_logits_MatMul\""
   ]
  },
  {
   "cell_type": "code",
   "execution_count": null,
   "metadata": {},
   "outputs": [],
   "source": [
    "n2cube.dpuOpen()\n",
    "kernel = n2cube.dpuLoadKernel(KERNEL_NAME)\n",
    "task = n2cube.dpuCreateTask(kernel, 0)"
   ]
  },
  {
   "cell_type": "code",
   "execution_count": null,
   "metadata": {},
   "outputs": [],
   "source": [
    "input_len = n2cube.dpuGetInputTensorSize(task, KERNEL_CONV_INPUT)\n",
    "size = n2cube.dpuGetOutputTensorSize(task, KERNEL_FC_OUTPUT)\n",
    "channel = n2cube.dpuGetOutputTensorChannel(task, KERNEL_FC_OUTPUT)\n",
    "conf = n2cube.dpuGetOutputTensorAddress(task, KERNEL_FC_OUTPUT)\n",
    "outputScale = n2cube.dpuGetOutputTensorScale(task, KERNEL_FC_OUTPUT)"
   ]
  },
  {
   "cell_type": "markdown",
   "metadata": {},
   "source": [
    "# Setting the camera as HW input."
   ]
  },
  {
   "cell_type": "code",
   "execution_count": null,
   "metadata": {},
   "outputs": [],
   "source": [
    "# initialize camera from OpenCV\n",
    "import cv2\n",
    "\n",
    "videoIn = cv2.VideoCapture(0)\n",
    "    \n",
    "while(str(videoIn.isOpened())==\"False\"):\n",
    "    videoIn = cv2.VideoCapture(0)\n",
    "print(\"Capture device is open\")"
   ]
  },
  {
   "cell_type": "markdown",
   "metadata": {},
   "source": [
    "# Testing the input image"
   ]
  },
  {
   "cell_type": "code",
   "execution_count": null,
   "metadata": {},
   "outputs": [],
   "source": [
    "# Capture webcam image\n",
    "import numpy as np\n",
    "\n",
    "ret, frame = videoIn.read()\n",
    "# Output webcam image as JPEG\n",
    "%matplotlib inline \n",
    "from matplotlib import pyplot as plt\n",
    "plt.imshow(frame[:,:,[2,1,0]])\n",
    "plt.show()\n"
   ]
  },
  {
   "cell_type": "markdown",
   "metadata": {},
   "source": [
    "# Testing the model, this code is in an infinite loop to stop it please stop the kernel."
   ]
  },
  {
   "cell_type": "code",
   "execution_count": null,
   "metadata": {
    "scrolled": false
   },
   "outputs": [],
   "source": [
    "%matplotlib inline\n",
    "import time\n",
    "import pylab as plt\n",
    "from IPython import display\n",
    "from matplotlib import pyplot as plt\n",
    "import threading\n",
    "from bluepy.btle import UUID, Peripheral\n",
    "import struct\n",
    "\n",
    "face_cascade = cv2.CascadeClassifier(\n",
    "        '/home/xilinx/jupyter_notebooks/base/video/data/'\n",
    "        'haarcascade_frontalface_default.xml')\n",
    "\n",
    "frame = \"\"\n",
    "p = \"\"\n",
    "marker = 0\n",
    "counter = 0\n",
    "flag=1\n",
    "startWait = 0\n",
    "\n",
    "def Wait_Service():\n",
    "    global flag\n",
    "    global startWait\n",
    "    while 1:\n",
    "        if(startWait):\n",
    "            print(\"Start Wait\")\n",
    "            time.sleep(30)\n",
    "            flag = 1\n",
    "            startWait = 0\n",
    "            print(\"Stop Wait\")\n",
    "    \n",
    "def BLE():\n",
    "    global p\n",
    "    while 1:\n",
    "        try:\n",
    "            p = Peripheral('30:ae:a4:28:c2:02')\n",
    "            print(\"BT:ok\")\n",
    "            break\n",
    "        except:\n",
    "            print(\"BT:error 1\")\n",
    "    \n",
    "def BLE_Send(select):\n",
    "    global p\n",
    "    global flag\n",
    "    global startWait\n",
    "    if(select==1):\n",
    "        try:\n",
    "            characteristics = p.getCharacteristics()\n",
    "            for k in characteristics:\n",
    "                if k.uuid == \"7325577d-a662-4789-bc62-24dfb14e5759\":\n",
    "                    temp = k.read().decode()\n",
    "                    print(\"Message:\"+str(temp))\n",
    "                    k.write(struct.pack('<B', 0x31))\n",
    "                    flag = 0\n",
    "                    startWait=1\n",
    "                    \n",
    "        except:\n",
    "            print(\"BT: error\")\n",
    "            BLE()\n",
    "    else:\n",
    "        try:\n",
    "            characteristics = p.getCharacteristics()\n",
    "            for k in characteristics:\n",
    "                if k.uuid == \"7325577d-a662-4789-bc62-24dfb14e5759\":\n",
    "                    temp = k.read().decode()\n",
    "                    print(\"Message:\"+str(temp))\n",
    "                    k.write(struct.pack('<B', 0x30))\n",
    "                    flag = 0\n",
    "                    startWait=1\n",
    "                    \n",
    "        except:\n",
    "            print(\"BT: error\")\n",
    "            BLE()\n",
    "    \n",
    "def my_service():\n",
    "    global frame\n",
    "    global marker\n",
    "    global counter\n",
    "    global waitservice\n",
    "    global flag\n",
    "    global startWait\n",
    "    BLE()\n",
    "    while 1:\n",
    "        ret, frame = videoIn.read()\n",
    "        gray = cv2.cvtColor(frame, cv2.COLOR_BGR2GRAY)\n",
    "        faces = face_cascade.detectMultiScale(gray, 1.3, 5)\n",
    "        for (x,y,w,h) in faces:\n",
    "            start_time = time.time()\n",
    "            raw_data = []\n",
    "            roi_gray = gray[y:y+h, x:x+w]\n",
    "            roi_gray = cv2.resize(roi_gray, (64,64), interpolation = cv2.INTER_AREA)\n",
    "            roi_gray = roi_gray/255.0\n",
    "            raw_data.append(roi_gray)\n",
    "            raw_data = np.array(raw_data, dtype=\"float32\")\n",
    "            raw_data = np.expand_dims(raw_data, axis=3)\n",
    "            n2cube.dpuSetInputTensorInHWCFP32(task, KERNEL_CONV_INPUT, \n",
    "                                              raw_data[0,:,:,0], input_len)\n",
    "            n2cube.dpuRunTask(task)\n",
    "            softmax = n2cube.dpuRunSoftmax(conf, channel, size//channel, outputScale)\n",
    "            prediction = softmax.argmax()\n",
    "            print(\"FPS: \", 1.0 / (time.time() - start_time))\n",
    "            if(prediction):\n",
    "                frame = cv2.putText(frame, str(\"Facemask OK\"), (x,y-5),cv2.FONT_HERSHEY_SIMPLEX, 1, (0,255,0), 2, cv2.LINE_AA)\n",
    "                cv2.rectangle(frame,(x,y),(x+w,y+h),(0,255,0),2)\n",
    "                if(marker ==2 and flag):\n",
    "                    counter = 0\n",
    "                elif(flag):\n",
    "                    marker = 1\n",
    "            else:\n",
    "                frame = cv2.putText(frame, str(\"NO Facemask\"), (x,y-5),cv2.FONT_HERSHEY_SIMPLEX, 1, (0,0,255), 2, cv2.LINE_AA)\n",
    "                cv2.rectangle(frame,(x,y),(x+w,y+h),(0,0,255),2)\n",
    "                if(marker == 1 and flag):\n",
    "                    counter = 0\n",
    "                elif(flag):\n",
    "                    marker = 2\n",
    "        plt.imshow(frame[:,:,[2,1,0]])\n",
    "        display.clear_output(wait=True)\n",
    "        plt.show()\n",
    "        \n",
    "        if(marker==1 and flag):\n",
    "            counter=counter + 1\n",
    "            if(counter > 3 and flag):\n",
    "                BLE_Send(1)\n",
    "                print(\"BLE SEND Face\")\n",
    "                counter=0\n",
    "                marker = 0\n",
    "        elif(marker==2 and flag):\n",
    "            counter=counter + 1\n",
    "            if(counter > 3 and flag):\n",
    "                BLE_Send(0)\n",
    "                print(\"BLE Nope\")\n",
    "                counter=0\n",
    "                marker = 0\n",
    "w = threading.Thread(target=my_service)\n",
    "waitservice = threading.Thread(target=Wait_Service)\n",
    "\n",
    "waitservice.start()\n",
    "w.start()"
   ]
  },
  {
   "cell_type": "code",
   "execution_count": null,
   "metadata": {},
   "outputs": [],
   "source": []
  }
 ],
 "metadata": {
  "kernelspec": {
   "display_name": "Python 3",
   "language": "python",
   "name": "python3"
  },
  "language_info": {
   "codemirror_mode": {
    "name": "ipython",
    "version": 3
   },
   "file_extension": ".py",
   "mimetype": "text/x-python",
   "name": "python",
   "nbconvert_exporter": "python",
   "pygments_lexer": "ipython3",
   "version": "3.6.5"
  }
 },
 "nbformat": 4,
 "nbformat_minor": 2
}
